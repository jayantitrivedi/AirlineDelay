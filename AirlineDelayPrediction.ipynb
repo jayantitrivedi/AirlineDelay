{
 "cells": [
  {
   "cell_type": "markdown",
   "metadata": {},
   "source": [
    "# Predicting Airline Delay with Weather Data Using PySpark"
   ]
  },
  {
   "cell_type": "markdown",
   "metadata": {},
   "source": [
    "### Checking sparkcontext is working"
   ]
  },
  {
   "cell_type": "code",
   "execution_count": 1,
   "metadata": {
    "collapsed": false
   },
   "outputs": [
    {
     "data": {
      "text/plain": [
       "<pyspark.context.SparkContext at 0x100675550>"
      ]
     },
     "execution_count": 1,
     "metadata": {},
     "output_type": "execute_result"
    }
   ],
   "source": [
    "sc"
   ]
  },
  {
   "cell_type": "markdown",
   "metadata": {},
   "source": [
    "## Importing libraries"
   ]
  },
  {
   "cell_type": "code",
   "execution_count": 2,
   "metadata": {
    "collapsed": true
   },
   "outputs": [],
   "source": [
    "from pyspark.sql import SQLContext\n",
    "from pyspark.sql.types import *\n",
    "from pyspark.sql.functions import *"
   ]
  },
  {
   "cell_type": "markdown",
   "metadata": {},
   "source": [
    "### Building SparkSession"
   ]
  },
  {
   "cell_type": "code",
   "execution_count": 3,
   "metadata": {
    "collapsed": false
   },
   "outputs": [],
   "source": [
    "sqlContext = SparkSession.builder.master(\"local[*]\").appName(\"appName\").config(\"spark.sql.warehouse.dir\", \"./spark-warehouse\").getOrCreate()"
   ]
  },
  {
   "cell_type": "markdown",
   "metadata": {},
   "source": [
    "# Reads flight 2007 data"
   ]
  },
  {
   "cell_type": "code",
   "execution_count": null,
   "metadata": {
    "collapsed": true
   },
   "outputs": [],
   "source": [
    "flight_2007 = sqlContext.read.load('/Users/jayantitrivedi/Desktop/Resume/LOL/airline/2007.csv', \n",
    "                          format='com.databricks.spark.csv', \n",
    "                          header='true', \n",
    "                          inferSchema='true')"
   ]
  },
  {
   "cell_type": "markdown",
   "metadata": {},
   "source": [
    "### Viewing Schema for 2007 Airline data"
   ]
  },
  {
   "cell_type": "code",
   "execution_count": 5,
   "metadata": {
    "collapsed": true
   },
   "outputs": [
    {
     "name": "stdout",
     "output_type": "stream",
     "text": [
      "root\n",
      " |-- Year: integer (nullable = true)\n",
      " |-- Month: integer (nullable = true)\n",
      " |-- DayofMonth: integer (nullable = true)\n",
      " |-- DayOfWeek: integer (nullable = true)\n",
      " |-- DepTime: string (nullable = true)\n",
      " |-- CRSDepTime: integer (nullable = true)\n",
      " |-- ArrTime: string (nullable = true)\n",
      " |-- CRSArrTime: integer (nullable = true)\n",
      " |-- UniqueCarrier: string (nullable = true)\n",
      " |-- FlightNum: integer (nullable = true)\n",
      " |-- TailNum: string (nullable = true)\n",
      " |-- ActualElapsedTime: string (nullable = true)\n",
      " |-- CRSElapsedTime: string (nullable = true)\n",
      " |-- AirTime: string (nullable = true)\n",
      " |-- ArrDelay: string (nullable = true)\n",
      " |-- DepDelay: string (nullable = true)\n",
      " |-- Origin: string (nullable = true)\n",
      " |-- Dest: string (nullable = true)\n",
      " |-- Distance: integer (nullable = true)\n",
      " |-- TaxiIn: integer (nullable = true)\n",
      " |-- TaxiOut: integer (nullable = true)\n",
      " |-- Cancelled: integer (nullable = true)\n",
      " |-- CancellationCode: string (nullable = true)\n",
      " |-- Diverted: integer (nullable = true)\n",
      " |-- CarrierDelay: integer (nullable = true)\n",
      " |-- WeatherDelay: integer (nullable = true)\n",
      " |-- NASDelay: integer (nullable = true)\n",
      " |-- SecurityDelay: integer (nullable = true)\n",
      " |-- LateAircraftDelay: integer (nullable = true)\n",
      "\n"
     ]
    }
   ],
   "source": [
    "flight_2007.printSchema()"
   ]
  },
  {
   "cell_type": "code",
   "execution_count": 6,
   "metadata": {
    "collapsed": true
   },
   "outputs": [
    {
     "data": {
      "text/plain": [
       "DataFrame[Year: int, Month: int, DayofMonth: int, DayOfWeek: int, DepTime: string, CRSDepTime: int, ArrTime: string, CRSArrTime: int, UniqueCarrier: string, FlightNum: int, TailNum: string, ActualElapsedTime: string, CRSElapsedTime: string, AirTime: string, ArrDelay: string, DepDelay: string, Origin: string, Dest: string, Distance: int, TaxiIn: int, TaxiOut: int, Cancelled: int, CancellationCode: string, Diverted: int, CarrierDelay: int, WeatherDelay: int, NASDelay: int, SecurityDelay: int, LateAircraftDelay: int]"
      ]
     },
     "execution_count": 6,
     "metadata": {},
     "output_type": "execute_result"
    }
   ],
   "source": [
    "flight_2007.cache()"
   ]
  },
  {
   "cell_type": "markdown",
   "metadata": {},
   "source": [
    "# Reads flight 2008 data"
   ]
  },
  {
   "cell_type": "code",
   "execution_count": null,
   "metadata": {
    "collapsed": true
   },
   "outputs": [],
   "source": [
    "flight_2008 = sqlContext.read.load('/Users/jayantitrivedi/Desktop/Resume/LOL/airline/2008.csv', \n",
    "                          format='com.databricks.spark.csv', \n",
    "                          header='true', \n",
    "                          inferSchema='true')\n",
    "flight_2008.cache()"
   ]
  },
  {
   "cell_type": "markdown",
   "metadata": {
    "collapsed": true
   },
   "source": [
    "### Viewing Schema for 2008 Airline data"
   ]
  },
  {
   "cell_type": "code",
   "execution_count": 7,
   "metadata": {
    "collapsed": true
   },
   "outputs": [
    {
     "name": "stdout",
     "output_type": "stream",
     "text": [
      "root\n",
      " |-- Year: integer (nullable = true)\n",
      " |-- Month: integer (nullable = true)\n",
      " |-- DayofMonth: integer (nullable = true)\n",
      " |-- DayOfWeek: integer (nullable = true)\n",
      " |-- DepTime: string (nullable = true)\n",
      " |-- CRSDepTime: integer (nullable = true)\n",
      " |-- ArrTime: string (nullable = true)\n",
      " |-- CRSArrTime: integer (nullable = true)\n",
      " |-- UniqueCarrier: string (nullable = true)\n",
      " |-- FlightNum: integer (nullable = true)\n",
      " |-- TailNum: string (nullable = true)\n",
      " |-- ActualElapsedTime: string (nullable = true)\n",
      " |-- CRSElapsedTime: string (nullable = true)\n",
      " |-- AirTime: string (nullable = true)\n",
      " |-- ArrDelay: string (nullable = true)\n",
      " |-- DepDelay: string (nullable = true)\n",
      " |-- Origin: string (nullable = true)\n",
      " |-- Dest: string (nullable = true)\n",
      " |-- Distance: integer (nullable = true)\n",
      " |-- TaxiIn: string (nullable = true)\n",
      " |-- TaxiOut: string (nullable = true)\n",
      " |-- Cancelled: integer (nullable = true)\n",
      " |-- CancellationCode: string (nullable = true)\n",
      " |-- Diverted: integer (nullable = true)\n",
      " |-- CarrierDelay: string (nullable = true)\n",
      " |-- WeatherDelay: string (nullable = true)\n",
      " |-- NASDelay: string (nullable = true)\n",
      " |-- SecurityDelay: string (nullable = true)\n",
      " |-- LateAircraftDelay: string (nullable = true)\n",
      "\n"
     ]
    }
   ],
   "source": [
    "flight_2008.printSchema()"
   ]
  },
  {
   "cell_type": "markdown",
   "metadata": {},
   "source": [
    "# Checking Count of rows in Datasets"
   ]
  },
  {
   "cell_type": "markdown",
   "metadata": {},
   "source": [
    "### Checks type of data object created"
   ]
  },
  {
   "cell_type": "code",
   "execution_count": 8,
   "metadata": {
    "collapsed": false
   },
   "outputs": [
    {
     "data": {
      "text/plain": [
       "pyspark.sql.dataframe.DataFrame"
      ]
     },
     "execution_count": 8,
     "metadata": {},
     "output_type": "execute_result"
    }
   ],
   "source": [
    "type(flight_2007)"
   ]
  },
  {
   "cell_type": "markdown",
   "metadata": {},
   "source": [
    "### Checks total flights in 2007 data"
   ]
  },
  {
   "cell_type": "code",
   "execution_count": 9,
   "metadata": {
    "collapsed": false
   },
   "outputs": [
    {
     "data": {
      "text/plain": [
       "7453215"
      ]
     },
     "execution_count": 9,
     "metadata": {},
     "output_type": "execute_result"
    }
   ],
   "source": [
    "flight_2007.count()"
   ]
  },
  {
   "cell_type": "markdown",
   "metadata": {},
   "source": [
    "### Checks the number of rows which have null in DepDelay column"
   ]
  },
  {
   "cell_type": "code",
   "execution_count": 10,
   "metadata": {
    "collapsed": false
   },
   "outputs": [
    {
     "data": {
      "text/plain": [
       "0"
      ]
     },
     "execution_count": 10,
     "metadata": {},
     "output_type": "execute_result"
    }
   ],
   "source": [
    "flight_2007.where(flight_2007.DepDelay.isNull()).count()"
   ]
  },
  {
   "cell_type": "markdown",
   "metadata": {},
   "source": [
    "# Pre-processing with Hadoop and Spark"
   ]
  },
  {
   "cell_type": "markdown",
   "metadata": {},
   "source": [
    "### To get clean data and remove rows which have NAs in DepDelay"
   ]
  },
  {
   "cell_type": "code",
   "execution_count": 11,
   "metadata": {
    "collapsed": true
   },
   "outputs": [],
   "source": [
    "filter_2007 = flight_2007.dropna(subset=['DepDelay'])\n",
    "filter_2008 = flight_2008.dropna(subset=['DepDelay'])"
   ]
  },
  {
   "cell_type": "markdown",
   "metadata": {},
   "source": [
    "### Filters out flights that originate in ORD"
   ]
  },
  {
   "cell_type": "code",
   "execution_count": 12,
   "metadata": {
    "collapsed": true
   },
   "outputs": [],
   "source": [
    "filter_2007 = filter_2007[filter_2007['Origin']=='ORD']\n",
    "filter_2008 = filter_2008[filter_2008['Origin']=='ORD']"
   ]
  },
  {
   "cell_type": "markdown",
   "metadata": {},
   "source": [
    "### Number of flights originating from ORD for Year 2007"
   ]
  },
  {
   "cell_type": "code",
   "execution_count": 96,
   "metadata": {
    "collapsed": false
   },
   "outputs": [
    {
     "data": {
      "text/plain": [
       "375784"
      ]
     },
     "execution_count": 96,
     "metadata": {},
     "output_type": "execute_result"
    }
   ],
   "source": [
    "filter_2007.count()"
   ]
  },
  {
   "cell_type": "markdown",
   "metadata": {},
   "source": [
    "### Number of flights originating from ORD for Year 2008"
   ]
  },
  {
   "cell_type": "code",
   "execution_count": 13,
   "metadata": {
    "collapsed": false
   },
   "outputs": [
    {
     "data": {
      "text/plain": [
       "350380"
      ]
     },
     "execution_count": 13,
     "metadata": {},
     "output_type": "execute_result"
    }
   ],
   "source": [
    "filter_2008.count()"
   ]
  },
  {
   "cell_type": "markdown",
   "metadata": {},
   "source": [
    "## Creates a flag for delayed flights"
   ]
  },
  {
   "cell_type": "code",
   "execution_count": 14,
   "metadata": {
    "collapsed": false
   },
   "outputs": [],
   "source": [
    "filter_2007 = filter_2007.withColumn(\"DelayedFlag\", when(filter_2007['DepDelay'] > 15, 1).otherwise(0))\n",
    "filter_2008 = filter_2008.withColumn(\"DelayedFlag\", when(filter_2008['DepDelay'] > 15, 1).otherwise(0))"
   ]
  },
  {
   "cell_type": "markdown",
   "metadata": {},
   "source": [
    "### Verifies that the newly created column is correct for Year 2007"
   ]
  },
  {
   "cell_type": "code",
   "execution_count": 98,
   "metadata": {
    "collapsed": true
   },
   "outputs": [
    {
     "data": {
      "text/plain": [
       "[Row(Year=2007, Month=1, DayofMonth=25, DayOfWeek=4, DepTime=u'1052', CRSDepTime=1100, ArrTime=u'1359', CRSArrTime=1414, UniqueCarrier=u'XE', FlightNum=1202, TailNum=u'N12167', ActualElapsedTime=u'127', CRSElapsedTime=u'134', AirTime=u'105', ArrDelay=u'-15', DepDelay=u'-8', Origin=u'ORD', Dest=u'EWR', Distance=719, TaxiIn=5, TaxiOut=17, Cancelled=0, CancellationCode=None, Diverted=0, CarrierDelay=0, WeatherDelay=0, NASDelay=0, SecurityDelay=0, LateAircraftDelay=0, DelayedFlag=0, HourOfDay=11),\n",
       " Row(Year=2007, Month=1, DayofMonth=28, DayOfWeek=7, DepTime=u'1541', CRSDepTime=1500, ArrTime=u'1811', CRSArrTime=1750, UniqueCarrier=u'XE', FlightNum=2836, TailNum=u'N12163', ActualElapsedTime=u'150', CRSElapsedTime=u'170', AirTime=u'128', ArrDelay=u'21', DepDelay=u'41', Origin=u'ORD', Dest=u'IAH', Distance=925, TaxiIn=7, TaxiOut=15, Cancelled=0, CancellationCode=None, Diverted=0, CarrierDelay=0, WeatherDelay=0, NASDelay=5, SecurityDelay=0, LateAircraftDelay=16, DelayedFlag=1, HourOfDay=15)]"
      ]
     },
     "execution_count": 98,
     "metadata": {},
     "output_type": "execute_result"
    }
   ],
   "source": [
    "filter_2007.head(2)"
   ]
  },
  {
   "cell_type": "markdown",
   "metadata": {},
   "source": [
    "### Verifies that the newly created column is correct for Year 2008"
   ]
  },
  {
   "cell_type": "code",
   "execution_count": 99,
   "metadata": {
    "collapsed": true
   },
   "outputs": [
    {
     "data": {
      "text/plain": [
       "[Row(Year=2008, Month=1, DayofMonth=8, DayOfWeek=2, DepTime=u'1711', CRSDepTime=1600, ArrTime=u'2031', CRSArrTime=1945, UniqueCarrier=u'XE', FlightNum=1226, TailNum=u'N14953', ActualElapsedTime=u'140', CRSElapsedTime=u'165', AirTime=u'106', ArrDelay=u'46', DepDelay=u'71', Origin=u'ORD', Dest=u'EWR', Distance=719, TaxiIn=u'8', TaxiOut=u'26', Cancelled=0, CancellationCode=None, Diverted=0, CarrierDelay=u'0', WeatherDelay=u'0', NASDelay=u'2', SecurityDelay=u'0', LateAircraftDelay=u'44', DelayedFlag=1, HourOfDay=16),\n",
       " Row(Year=2008, Month=1, DayofMonth=25, DayOfWeek=5, DepTime=u'1813', CRSDepTime=1742, ArrTime=u'2040', CRSArrTime=2004, UniqueCarrier=u'XE', FlightNum=2229, TailNum=u'N15509', ActualElapsedTime=u'87', CRSElapsedTime=u'82', AirTime=u'49', ArrDelay=u'36', DepDelay=u'31', Origin=u'ORD', Dest=u'CLE', Distance=316, TaxiIn=u'6', TaxiOut=u'32', Cancelled=0, CancellationCode=None, Diverted=0, CarrierDelay=u'0', WeatherDelay=u'0', NASDelay=u'5', SecurityDelay=u'0', LateAircraftDelay=u'31', DelayedFlag=1, HourOfDay=17)]"
      ]
     },
     "execution_count": 99,
     "metadata": {},
     "output_type": "execute_result"
    }
   ],
   "source": [
    "filter_2008.head(2)"
   ]
  },
  {
   "cell_type": "markdown",
   "metadata": {},
   "source": [
    "## Computes hour from departure time and casts it to integer"
   ]
  },
  {
   "cell_type": "code",
   "execution_count": 17,
   "metadata": {
    "collapsed": false
   },
   "outputs": [],
   "source": [
    "filter_2007 = filter_2007.withColumn('HourOfDay', concat(filter_2007.CRSDepTime.substr(1, 2)).cast(\"integer\"))\n",
    "filter_2008 = filter_2008.withColumn('HourOfDay', concat(filter_2008.CRSDepTime.substr(1, 2)).cast(\"integer\"))"
   ]
  },
  {
   "cell_type": "markdown",
   "metadata": {},
   "source": [
    "### Verifies the newly created column values for year 2007"
   ]
  },
  {
   "cell_type": "code",
   "execution_count": 100,
   "metadata": {
    "collapsed": true
   },
   "outputs": [
    {
     "data": {
      "text/plain": [
       "[Row(Year=2007, Month=1, DayofMonth=25, DayOfWeek=4, DepTime=u'1052', CRSDepTime=1100, ArrTime=u'1359', CRSArrTime=1414, UniqueCarrier=u'XE', FlightNum=1202, TailNum=u'N12167', ActualElapsedTime=u'127', CRSElapsedTime=u'134', AirTime=u'105', ArrDelay=u'-15', DepDelay=u'-8', Origin=u'ORD', Dest=u'EWR', Distance=719, TaxiIn=5, TaxiOut=17, Cancelled=0, CancellationCode=None, Diverted=0, CarrierDelay=0, WeatherDelay=0, NASDelay=0, SecurityDelay=0, LateAircraftDelay=0, DelayedFlag=0, HourOfDay=11),\n",
       " Row(Year=2007, Month=1, DayofMonth=28, DayOfWeek=7, DepTime=u'1541', CRSDepTime=1500, ArrTime=u'1811', CRSArrTime=1750, UniqueCarrier=u'XE', FlightNum=2836, TailNum=u'N12163', ActualElapsedTime=u'150', CRSElapsedTime=u'170', AirTime=u'128', ArrDelay=u'21', DepDelay=u'41', Origin=u'ORD', Dest=u'IAH', Distance=925, TaxiIn=7, TaxiOut=15, Cancelled=0, CancellationCode=None, Diverted=0, CarrierDelay=0, WeatherDelay=0, NASDelay=5, SecurityDelay=0, LateAircraftDelay=16, DelayedFlag=1, HourOfDay=15)]"
      ]
     },
     "execution_count": 100,
     "metadata": {},
     "output_type": "execute_result"
    }
   ],
   "source": [
    "filter_2007.head(2)"
   ]
  },
  {
   "cell_type": "markdown",
   "metadata": {},
   "source": [
    "### View the Filtered 2007 data Schema"
   ]
  },
  {
   "cell_type": "code",
   "execution_count": 20,
   "metadata": {
    "collapsed": false
   },
   "outputs": [
    {
     "name": "stdout",
     "output_type": "stream",
     "text": [
      "root\n",
      " |-- Year: integer (nullable = true)\n",
      " |-- Month: integer (nullable = true)\n",
      " |-- DayofMonth: integer (nullable = true)\n",
      " |-- DayOfWeek: integer (nullable = true)\n",
      " |-- DepTime: string (nullable = true)\n",
      " |-- CRSDepTime: integer (nullable = true)\n",
      " |-- ArrTime: string (nullable = true)\n",
      " |-- CRSArrTime: integer (nullable = true)\n",
      " |-- UniqueCarrier: string (nullable = true)\n",
      " |-- FlightNum: integer (nullable = true)\n",
      " |-- TailNum: string (nullable = true)\n",
      " |-- ActualElapsedTime: string (nullable = true)\n",
      " |-- CRSElapsedTime: string (nullable = true)\n",
      " |-- AirTime: string (nullable = true)\n",
      " |-- ArrDelay: string (nullable = true)\n",
      " |-- DepDelay: string (nullable = true)\n",
      " |-- Origin: string (nullable = true)\n",
      " |-- Dest: string (nullable = true)\n",
      " |-- Distance: integer (nullable = true)\n",
      " |-- TaxiIn: integer (nullable = true)\n",
      " |-- TaxiOut: integer (nullable = true)\n",
      " |-- Cancelled: integer (nullable = true)\n",
      " |-- CancellationCode: string (nullable = true)\n",
      " |-- Diverted: integer (nullable = true)\n",
      " |-- CarrierDelay: integer (nullable = true)\n",
      " |-- WeatherDelay: integer (nullable = true)\n",
      " |-- NASDelay: integer (nullable = true)\n",
      " |-- SecurityDelay: integer (nullable = true)\n",
      " |-- LateAircraftDelay: integer (nullable = true)\n",
      " |-- DelayedFlag: integer (nullable = false)\n",
      " |-- HourOfDay: integer (nullable = true)\n",
      "\n"
     ]
    }
   ],
   "source": [
    "filter_2007.printSchema()"
   ]
  },
  {
   "cell_type": "markdown",
   "metadata": {},
   "source": [
    "### Verifies the newly created column values for year 2008"
   ]
  },
  {
   "cell_type": "code",
   "execution_count": 101,
   "metadata": {
    "collapsed": true
   },
   "outputs": [
    {
     "data": {
      "text/plain": [
       "[Row(Year=2008, Month=1, DayofMonth=8, DayOfWeek=2, DepTime=u'1711', CRSDepTime=1600, ArrTime=u'2031', CRSArrTime=1945, UniqueCarrier=u'XE', FlightNum=1226, TailNum=u'N14953', ActualElapsedTime=u'140', CRSElapsedTime=u'165', AirTime=u'106', ArrDelay=u'46', DepDelay=u'71', Origin=u'ORD', Dest=u'EWR', Distance=719, TaxiIn=u'8', TaxiOut=u'26', Cancelled=0, CancellationCode=None, Diverted=0, CarrierDelay=u'0', WeatherDelay=u'0', NASDelay=u'2', SecurityDelay=u'0', LateAircraftDelay=u'44', DelayedFlag=1, HourOfDay=16),\n",
       " Row(Year=2008, Month=1, DayofMonth=25, DayOfWeek=5, DepTime=u'1813', CRSDepTime=1742, ArrTime=u'2040', CRSArrTime=2004, UniqueCarrier=u'XE', FlightNum=2229, TailNum=u'N15509', ActualElapsedTime=u'87', CRSElapsedTime=u'82', AirTime=u'49', ArrDelay=u'36', DepDelay=u'31', Origin=u'ORD', Dest=u'CLE', Distance=316, TaxiIn=u'6', TaxiOut=u'32', Cancelled=0, CancellationCode=None, Diverted=0, CarrierDelay=u'0', WeatherDelay=u'0', NASDelay=u'5', SecurityDelay=u'0', LateAircraftDelay=u'31', DelayedFlag=1, HourOfDay=17)]"
      ]
     },
     "execution_count": 101,
     "metadata": {},
     "output_type": "execute_result"
    }
   ],
   "source": [
    "filter_2008.head(2)"
   ]
  },
  {
   "cell_type": "markdown",
   "metadata": {},
   "source": [
    "### View the Filtered 2008 data Schema"
   ]
  },
  {
   "cell_type": "code",
   "execution_count": 21,
   "metadata": {
    "collapsed": true
   },
   "outputs": [
    {
     "name": "stdout",
     "output_type": "stream",
     "text": [
      "root\n",
      " |-- Year: integer (nullable = true)\n",
      " |-- Month: integer (nullable = true)\n",
      " |-- DayofMonth: integer (nullable = true)\n",
      " |-- DayOfWeek: integer (nullable = true)\n",
      " |-- DepTime: string (nullable = true)\n",
      " |-- CRSDepTime: integer (nullable = true)\n",
      " |-- ArrTime: string (nullable = true)\n",
      " |-- CRSArrTime: integer (nullable = true)\n",
      " |-- UniqueCarrier: string (nullable = true)\n",
      " |-- FlightNum: integer (nullable = true)\n",
      " |-- TailNum: string (nullable = true)\n",
      " |-- ActualElapsedTime: string (nullable = true)\n",
      " |-- CRSElapsedTime: string (nullable = true)\n",
      " |-- AirTime: string (nullable = true)\n",
      " |-- ArrDelay: string (nullable = true)\n",
      " |-- DepDelay: string (nullable = true)\n",
      " |-- Origin: string (nullable = true)\n",
      " |-- Dest: string (nullable = true)\n",
      " |-- Distance: integer (nullable = true)\n",
      " |-- TaxiIn: string (nullable = true)\n",
      " |-- TaxiOut: string (nullable = true)\n",
      " |-- Cancelled: integer (nullable = true)\n",
      " |-- CancellationCode: string (nullable = true)\n",
      " |-- Diverted: integer (nullable = true)\n",
      " |-- CarrierDelay: string (nullable = true)\n",
      " |-- WeatherDelay: string (nullable = true)\n",
      " |-- NASDelay: string (nullable = true)\n",
      " |-- SecurityDelay: string (nullable = true)\n",
      " |-- LateAircraftDelay: string (nullable = true)\n",
      " |-- DelayedFlag: integer (nullable = false)\n",
      " |-- HourOfDay: integer (nullable = true)\n",
      "\n"
     ]
    }
   ],
   "source": [
    "filter_2008.printSchema()"
   ]
  },
  {
   "cell_type": "markdown",
   "metadata": {},
   "source": [
    "# Weather data"
   ]
  },
  {
   "cell_type": "markdown",
   "metadata": {},
   "source": [
    "### Defining the Schema for the weather data, as header's are missing in the csv"
   ]
  },
  {
   "cell_type": "code",
   "execution_count": 69,
   "metadata": {
    "collapsed": false
   },
   "outputs": [],
   "source": [
    "schema = StructType([\n",
    "        StructField(\"Station\", StringType()),\n",
    "        StructField(\"MeasurementDate\", DateType()),\n",
    "        StructField(\"Type\", StringType()),\n",
    "        StructField(\"Measurement\", DoubleType()),\n",
    "        StructField(\"measurement_Flag\", StringType()),\n",
    "        StructField(\"Latitude\", StringType()),\n",
    "        StructField(\"Longitude\", StringType()),\n",
    "        StructField(\"Elevation\", IntegerType()),\n",
    "    ])"
   ]
  },
  {
   "cell_type": "markdown",
   "metadata": {},
   "source": [
    "## Reads 2007 weather data into a spark dataframe"
   ]
  },
  {
   "cell_type": "code",
   "execution_count": 70,
   "metadata": {
    "collapsed": false
   },
   "outputs": [],
   "source": [
    "weather_2007 = sqlContext.read.schema(schema).option(\"mode\",\"DROPMALFORMED\").option(\"dateFormat\",\"yyyyMMdd\").load('/Users/jayantitrivedi/Desktop/Resume/LOL/weather/2007.csv', \n",
    "                          format='com.databricks.spark.csv', \n",
    "                          header='false', \n",
    "                          inferSchema='false')"
   ]
  },
  {
   "cell_type": "markdown",
   "metadata": {},
   "source": [
    "### Viewing Schema for 2007 Weather data"
   ]
  },
  {
   "cell_type": "code",
   "execution_count": 71,
   "metadata": {
    "collapsed": true
   },
   "outputs": [
    {
     "name": "stdout",
     "output_type": "stream",
     "text": [
      "root\n",
      " |-- Station: string (nullable = true)\n",
      " |-- MeasurementDate: date (nullable = true)\n",
      " |-- Type: string (nullable = true)\n",
      " |-- Measurement: double (nullable = true)\n",
      " |-- measurement_Flag: string (nullable = true)\n",
      " |-- Latitude: string (nullable = true)\n",
      " |-- Longitude: string (nullable = true)\n",
      " |-- Elevation: integer (nullable = true)\n",
      "\n"
     ]
    }
   ],
   "source": [
    "weather_2007.printSchema()"
   ]
  },
  {
   "cell_type": "code",
   "execution_count": 73,
   "metadata": {
    "collapsed": true
   },
   "outputs": [
    {
     "data": {
      "text/plain": [
       "[Row(Station=u'CA002303986', MeasurementDate=datetime.date(2007, 1, 1), Type=u'TMAX', Measurement=-130.0, measurement_Flag=None, Latitude=None, Longitude=u'G', Elevation=None),\n",
       " Row(Station=u'CA002303986', MeasurementDate=datetime.date(2007, 1, 1), Type=u'TMIN', Measurement=-220.0, measurement_Flag=None, Latitude=None, Longitude=u'G', Elevation=None)]"
      ]
     },
     "execution_count": 73,
     "metadata": {},
     "output_type": "execute_result"
    }
   ],
   "source": [
    "weather_2007.head(2)"
   ]
  },
  {
   "cell_type": "markdown",
   "metadata": {},
   "source": [
    "## Reads 2008 weather data into a spark dataframe"
   ]
  },
  {
   "cell_type": "code",
   "execution_count": 74,
   "metadata": {
    "collapsed": true
   },
   "outputs": [],
   "source": [
    "weather_2008 = sqlContext.read.schema(schema).option(\"mode\",\"DROPMALFORMED\").option(\"dateFormat\",\"yyyyMMdd\").load('/Users/jayantitrivedi/Desktop/Resume/LOL/weather/2008.csv', \n",
    "                          format='com.databricks.spark.csv', \n",
    "                          header='false', \n",
    "                          inferSchema='false')"
   ]
  },
  {
   "cell_type": "markdown",
   "metadata": {},
   "source": [
    "### Viewing Schema for 2008 Weather data"
   ]
  },
  {
   "cell_type": "code",
   "execution_count": 75,
   "metadata": {
    "collapsed": true
   },
   "outputs": [
    {
     "name": "stdout",
     "output_type": "stream",
     "text": [
      "root\n",
      " |-- Station: string (nullable = true)\n",
      " |-- MeasurementDate: date (nullable = true)\n",
      " |-- Type: string (nullable = true)\n",
      " |-- Measurement: double (nullable = true)\n",
      " |-- measurement_Flag: string (nullable = true)\n",
      " |-- Latitude: string (nullable = true)\n",
      " |-- Longitude: string (nullable = true)\n",
      " |-- Elevation: integer (nullable = true)\n",
      "\n"
     ]
    }
   ],
   "source": [
    "weather_2008.printSchema()"
   ]
  },
  {
   "cell_type": "code",
   "execution_count": 76,
   "metadata": {
    "collapsed": true
   },
   "outputs": [
    {
     "data": {
      "text/plain": [
       "[Row(Station=u'CA002303986', MeasurementDate=datetime.date(2008, 1, 1), Type=u'TMAX', Measurement=-315.0, measurement_Flag=None, Latitude=None, Longitude=u'G', Elevation=None),\n",
       " Row(Station=u'CA002303986', MeasurementDate=datetime.date(2008, 1, 1), Type=u'PRCP', Measurement=4.0, measurement_Flag=None, Latitude=None, Longitude=u'G', Elevation=None)]"
      ]
     },
     "execution_count": 76,
     "metadata": {},
     "output_type": "execute_result"
    }
   ],
   "source": [
    "weather_2008.head(2)"
   ]
  },
  {
   "cell_type": "markdown",
   "metadata": {},
   "source": [
    "## Filters only for Chicago o Hare International airport for year 2007"
   ]
  },
  {
   "cell_type": "code",
   "execution_count": 81,
   "metadata": {
    "collapsed": true
   },
   "outputs": [],
   "source": [
    "filter_wea_2007 = weather_2007[weather_2007['Station']=='USW00094846']"
   ]
  },
  {
   "cell_type": "code",
   "execution_count": 102,
   "metadata": {
    "collapsed": true
   },
   "outputs": [
    {
     "data": {
      "text/plain": [
       "[Row(Station=u'USW00094846', MeasurementDate=datetime.date(2007, 1, 1), Type=u'TMAX', Measurement=61.0, measurement_Flag=None, Latitude=None, Longitude=u'0', Elevation=2400),\n",
       " Row(Station=u'USW00094846', MeasurementDate=datetime.date(2007, 1, 1), Type=u'TMIN', Measurement=-17.0, measurement_Flag=None, Latitude=None, Longitude=u'0', Elevation=2400)]"
      ]
     },
     "execution_count": 102,
     "metadata": {},
     "output_type": "execute_result"
    }
   ],
   "source": [
    "filter_wea_2007.head(2)"
   ]
  },
  {
   "cell_type": "markdown",
   "metadata": {},
   "source": [
    "## Filters only for Chicago o Hare International airport for year 2008"
   ]
  },
  {
   "cell_type": "code",
   "execution_count": 103,
   "metadata": {
    "collapsed": true
   },
   "outputs": [],
   "source": [
    "filter_wea_2008 = weather_2008[weather_2008['Station']=='USW00094846']"
   ]
  },
  {
   "cell_type": "code",
   "execution_count": 104,
   "metadata": {
    "collapsed": true
   },
   "outputs": [
    {
     "data": {
      "text/plain": [
       "[Row(Station=u'USW00094846', MeasurementDate=datetime.date(2008, 1, 1), Type=u'TMAX', Measurement=-28.0, measurement_Flag=None, Latitude=None, Longitude=u'0', Elevation=2400),\n",
       " Row(Station=u'USW00094846', MeasurementDate=datetime.date(2008, 1, 1), Type=u'TMIN', Measurement=-156.0, measurement_Flag=None, Latitude=None, Longitude=u'0', Elevation=2400)]"
      ]
     },
     "execution_count": 104,
     "metadata": {},
     "output_type": "execute_result"
    }
   ],
   "source": [
    "filter_wea_2008.head(2)"
   ]
  },
  {
   "cell_type": "markdown",
   "metadata": {},
   "source": [
    "## Transforms rows to columns for year 2007"
   ]
  },
  {
   "cell_type": "code",
   "execution_count": 83,
   "metadata": {
    "collapsed": true
   },
   "outputs": [],
   "source": [
    "reshaped_wea_2007 = filter_wea_2007.groupby('MeasurementDate').pivot('Type').max('Measurement').fillna(0)"
   ]
  },
  {
   "cell_type": "code",
   "execution_count": 89,
   "metadata": {
    "collapsed": true
   },
   "outputs": [
    {
     "data": {
      "text/plain": [
       "[Row(MeasurementDate=datetime.date(2007, 11, 23), AWND=34.0, FMTM=1338.0, PGTM=1338.0, PRCP=0.0, SNOW=0.0, SNWD=0.0, TMAX=0.0, TMIN=-56.0, WDF2=230.0, WDF5=240.0, WESD=0.0, WSF2=63.0, WSF5=76.0, WT01=0.0, WT02=0.0, WT03=0.0, WT04=0.0, WT05=0.0, WT06=0.0, WT08=0.0, WT09=0.0, WT11=0.0, WT13=0.0, WT14=0.0, WT15=0.0, WT16=0.0, WT17=0.0, WT18=0.0, WT19=0.0, WT21=0.0, WT22=0.0),\n",
       " Row(MeasurementDate=datetime.date(2007, 11, 15), AWND=60.0, FMTM=901.0, PGTM=913.0, PRCP=0.0, SNOW=0.0, SNWD=0.0, TMAX=44.0, TMIN=-22.0, WDF2=330.0, WDF5=320.0, WESD=0.0, WSF2=112.0, WSF5=148.0, WT01=0.0, WT02=0.0, WT03=0.0, WT04=0.0, WT05=0.0, WT06=0.0, WT08=0.0, WT09=0.0, WT11=0.0, WT13=0.0, WT14=0.0, WT15=0.0, WT16=0.0, WT17=0.0, WT18=1.0, WT19=0.0, WT21=0.0, WT22=0.0)]"
      ]
     },
     "execution_count": 89,
     "metadata": {},
     "output_type": "execute_result"
    }
   ],
   "source": [
    "reshaped_wea_2007.head(2)"
   ]
  },
  {
   "cell_type": "markdown",
   "metadata": {},
   "source": [
    "## Transforms rows to columns for year 2008"
   ]
  },
  {
   "cell_type": "code",
   "execution_count": 105,
   "metadata": {
    "collapsed": true
   },
   "outputs": [],
   "source": [
    "reshaped_wea_2008 = filter_wea_2008.groupby('MeasurementDate').pivot('Type').max('Measurement').fillna(0)"
   ]
  },
  {
   "cell_type": "code",
   "execution_count": 106,
   "metadata": {
    "collapsed": true
   },
   "outputs": [
    {
     "data": {
      "text/plain": [
       "[Row(MeasurementDate=datetime.date(2008, 7, 15), AWND=33.0, FMTM=1615.0, PGTM=1429.0, PRCP=0.0, SNOW=0.0, SNWD=0.0, TMAX=322.0, TMIN=161.0, WDF2=240.0, WDF5=230.0, WESD=0.0, WSF2=98.0, WSF5=130.0, WT01=0.0, WT02=0.0, WT03=0.0, WT04=0.0, WT05=0.0, WT07=0.0, WT08=0.0, WT09=0.0, WT11=0.0, WT13=0.0, WT14=0.0, WT16=0.0, WT17=0.0, WT18=0.0, WT22=0.0),\n",
       " Row(MeasurementDate=datetime.date(2008, 9, 26), AWND=19.0, FMTM=1314.0, PGTM=1214.0, PRCP=0.0, SNOW=0.0, SNWD=0.0, TMAX=261.0, TMIN=150.0, WDF2=70.0, WDF5=70.0, WESD=0.0, WSF2=54.0, WSF5=112.0, WT01=1.0, WT02=0.0, WT03=0.0, WT04=0.0, WT05=0.0, WT07=0.0, WT08=1.0, WT09=0.0, WT11=0.0, WT13=1.0, WT14=0.0, WT16=0.0, WT17=0.0, WT18=0.0, WT22=0.0)]"
      ]
     },
     "execution_count": 106,
     "metadata": {},
     "output_type": "execute_result"
    }
   ],
   "source": [
    "reshaped_wea_2008.head(2)"
   ]
  },
  {
   "cell_type": "markdown",
   "metadata": {},
   "source": [
    "## Counts total rows in dataframe to check if it's an year for 2007 data"
   ]
  },
  {
   "cell_type": "code",
   "execution_count": 85,
   "metadata": {
    "collapsed": false,
    "scrolled": true
   },
   "outputs": [
    {
     "data": {
      "text/plain": [
       "365"
      ]
     },
     "execution_count": 85,
     "metadata": {},
     "output_type": "execute_result"
    }
   ],
   "source": [
    "reshaped_wea_2007.count()"
   ]
  },
  {
   "cell_type": "code",
   "execution_count": 145,
   "metadata": {
    "collapsed": false
   },
   "outputs": [],
   "source": [
    "finalweather_2007 = reshaped_wea_2007.select(year(\"MeasurementDate\").alias('year'), month(\"MeasurementDate\").alias('MonthofYear'), dayofmonth(\"MeasurementDate\").alias('day'), 'TMAX', 'TMIN', 'PRCP', 'SNOW')"
   ]
  },
  {
   "cell_type": "code",
   "execution_count": 146,
   "metadata": {
    "collapsed": true
   },
   "outputs": [
    {
     "data": {
      "text/plain": [
       "[Row(year=2007, MonthofYear=11, day=23, TMAX=0.0, TMIN=-56.0, PRCP=0.0, SNOW=0.0),\n",
       " Row(year=2007, MonthofYear=11, day=15, TMAX=44.0, TMIN=-22.0, PRCP=0.0, SNOW=0.0)]"
      ]
     },
     "execution_count": 146,
     "metadata": {},
     "output_type": "execute_result"
    }
   ],
   "source": [
    "finalweather_2007.head(2)"
   ]
  },
  {
   "cell_type": "markdown",
   "metadata": {},
   "source": [
    "## Counts total rows in dataframe to check if it's an year for 2008 data"
   ]
  },
  {
   "cell_type": "code",
   "execution_count": 107,
   "metadata": {
    "collapsed": false,
    "scrolled": true
   },
   "outputs": [
    {
     "data": {
      "text/plain": [
       "366"
      ]
     },
     "execution_count": 107,
     "metadata": {},
     "output_type": "execute_result"
    }
   ],
   "source": [
    "reshaped_wea_2008.count()"
   ]
  },
  {
   "cell_type": "code",
   "execution_count": 147,
   "metadata": {
    "collapsed": false
   },
   "outputs": [],
   "source": [
    "finalweather_2008 = reshaped_wea_2008.select(year(\"MeasurementDate\").alias('year'), month(\"MeasurementDate\").alias('MonthofYear'), dayofmonth(\"MeasurementDate\").alias('day'), 'TMAX', 'TMIN', 'PRCP', 'SNOW')"
   ]
  },
  {
   "cell_type": "code",
   "execution_count": 148,
   "metadata": {
    "collapsed": true
   },
   "outputs": [
    {
     "data": {
      "text/plain": [
       "[Row(year=2008, MonthofYear=7, day=15, TMAX=322.0, TMIN=161.0, PRCP=0.0, SNOW=0.0),\n",
       " Row(year=2008, MonthofYear=9, day=26, TMAX=261.0, TMIN=150.0, PRCP=0.0, SNOW=0.0)]"
      ]
     },
     "execution_count": 148,
     "metadata": {},
     "output_type": "execute_result"
    }
   ],
   "source": [
    "finalweather_2008.head(2)"
   ]
  },
  {
   "cell_type": "markdown",
   "metadata": {},
   "source": [
    "# Merging airline and weather datasets for 2007"
   ]
  },
  {
   "cell_type": "code",
   "execution_count": 149,
   "metadata": {
    "collapsed": false
   },
   "outputs": [],
   "source": [
    "final_data_2007 = filter_2007.join(finalweather_2007,(filter_2007.Month==finalweather_2007.MonthofYear)&(filter_2007.DayofMonth==finalweather_2007.day))"
   ]
  },
  {
   "cell_type": "code",
   "execution_count": 150,
   "metadata": {
    "collapsed": true
   },
   "outputs": [
    {
     "data": {
      "text/plain": [
       "[Row(Year=2007, Month=3, DayofMonth=22, DayOfWeek=4, DepTime=u'NA', CRSDepTime=2000, ArrTime=u'NA', CRSArrTime=2208, UniqueCarrier=u'XE', FlightNum=2163, TailNum=u'0', ActualElapsedTime=u'NA', CRSElapsedTime=u'68', AirTime=u'NA', ArrDelay=u'NA', DepDelay=u'NA', Origin=u'ORD', Dest=u'CLE', Distance=316, TaxiIn=0, TaxiOut=0, Cancelled=1, CancellationCode=u'C', Diverted=0, CarrierDelay=0, WeatherDelay=0, NASDelay=0, SecurityDelay=0, LateAircraftDelay=0, DelayedFlag=0, HourOfDay=20, year=2007, MonthofYear=3, day=22, TMAX=178.0, TMIN=67.0, PRCP=23.0, SNOW=0.0),\n",
       " Row(Year=2007, Month=3, DayofMonth=22, DayOfWeek=4, DepTime=u'1848', CRSDepTime=1745, ArrTime=u'2103', CRSArrTime=1959, UniqueCarrier=u'XE', FlightNum=2023, TailNum=u'N14950', ActualElapsedTime=u'75', CRSElapsedTime=u'74', AirTime=u'49', ArrDelay=u'64', DepDelay=u'63', Origin=u'ORD', Dest=u'CLE', Distance=316, TaxiIn=9, TaxiOut=17, Cancelled=0, CancellationCode=None, Diverted=0, CarrierDelay=0, WeatherDelay=7, NASDelay=1, SecurityDelay=0, LateAircraftDelay=56, DelayedFlag=1, HourOfDay=17, year=2007, MonthofYear=3, day=22, TMAX=178.0, TMIN=67.0, PRCP=23.0, SNOW=0.0)]"
      ]
     },
     "execution_count": 150,
     "metadata": {},
     "output_type": "execute_result"
    }
   ],
   "source": [
    "final_data_2007.head(2)"
   ]
  },
  {
   "cell_type": "code",
   "execution_count": 151,
   "metadata": {
    "collapsed": true
   },
   "outputs": [
    {
     "data": {
      "text/plain": [
       "375784"
      ]
     },
     "execution_count": 151,
     "metadata": {},
     "output_type": "execute_result"
    }
   ],
   "source": [
    "final_data_2007.count()"
   ]
  },
  {
   "cell_type": "markdown",
   "metadata": {},
   "source": [
    "# Merging airline and weather datasets for 2008"
   ]
  },
  {
   "cell_type": "code",
   "execution_count": 152,
   "metadata": {
    "collapsed": false
   },
   "outputs": [],
   "source": [
    "final_data_2008 = filter_2008.join(finalweather_2008,(filter_2008.Month==finalweather_2008.MonthofYear)&(filter_2008.DayofMonth==finalweather_2008.day))"
   ]
  },
  {
   "cell_type": "code",
   "execution_count": 153,
   "metadata": {
    "collapsed": true
   },
   "outputs": [
    {
     "data": {
      "text/plain": [
       "[Row(Year=2008, Month=3, DayofMonth=22, DayOfWeek=6, DepTime=u'700', CRSDepTime=600, ArrTime=u'915', CRSArrTime=813, UniqueCarrier=u'XE', FlightNum=2318, TailNum=u'N14542', ActualElapsedTime=u'75', CRSElapsedTime=u'73', AirTime=u'49', ArrDelay=u'62', DepDelay=u'60', Origin=u'ORD', Dest=u'CLE', Distance=316, TaxiIn=u'10', TaxiOut=u'16', Cancelled=0, CancellationCode=None, Diverted=0, CarrierDelay=u'60', WeatherDelay=u'0', NASDelay=u'2', SecurityDelay=u'0', LateAircraftDelay=u'0', DelayedFlag=1, HourOfDay=60, year=2008, MonthofYear=3, day=22, TMAX=28.0, TMIN=-28.0, PRCP=20.0, SNOW=15.0),\n",
       " Row(Year=2008, Month=3, DayofMonth=22, DayOfWeek=6, DepTime=u'1559', CRSDepTime=1600, ArrTime=u'1858', CRSArrTime=1909, UniqueCarrier=u'XE', FlightNum=1226, TailNum=u'N14974', ActualElapsedTime=u'119', CRSElapsedTime=u'129', AirTime=u'101', ArrDelay=u'-11', DepDelay=u'-1', Origin=u'ORD', Dest=u'EWR', Distance=719, TaxiIn=u'4', TaxiOut=u'14', Cancelled=0, CancellationCode=None, Diverted=0, CarrierDelay=u'NA', WeatherDelay=u'NA', NASDelay=u'NA', SecurityDelay=u'NA', LateAircraftDelay=u'NA', DelayedFlag=0, HourOfDay=16, year=2008, MonthofYear=3, day=22, TMAX=28.0, TMIN=-28.0, PRCP=20.0, SNOW=15.0)]"
      ]
     },
     "execution_count": 153,
     "metadata": {},
     "output_type": "execute_result"
    }
   ],
   "source": [
    "final_data_2008.head(2)"
   ]
  },
  {
   "cell_type": "code",
   "execution_count": 154,
   "metadata": {
    "collapsed": false
   },
   "outputs": [
    {
     "data": {
      "text/plain": [
       "350380"
      ]
     },
     "execution_count": 154,
     "metadata": {},
     "output_type": "execute_result"
    }
   ],
   "source": [
    "final_data_2008.count()"
   ]
  },
  {
   "cell_type": "markdown",
   "metadata": {},
   "source": [
    "# Model Building"
   ]
  },
  {
   "cell_type": "code",
   "execution_count": 116,
   "metadata": {
    "collapsed": true
   },
   "outputs": [],
   "source": [
    "from pyspark.ml.feature import StringIndexer\n",
    "from pyspark.ml.feature import VectorAssembler"
   ]
  },
  {
   "cell_type": "code",
   "execution_count": 155,
   "metadata": {
    "collapsed": true
   },
   "outputs": [],
   "source": [
    "train = final_data_2007\n",
    "test = final_data_2008"
   ]
  },
  {
   "cell_type": "code",
   "execution_count": 156,
   "metadata": {
    "collapsed": false
   },
   "outputs": [],
   "source": [
    "assembler = VectorAssembler(\n",
    "    inputCols = [\"Month\", \"DayofMonth\", \"DayOfWeek\",\n",
    "                        \"HourOfDay\", \"Distance\", \"TMAX\", \"TMIN\", \"PRCP\", \"SNOW\"],\n",
    "    outputCol='features')\n",
    "\n",
    "label_indexer = StringIndexer(inputCol = 'DelayedFlag', outputCol = 'label')"
   ]
  },
  {
   "cell_type": "markdown",
   "metadata": {},
   "source": [
    "## Random Forest"
   ]
  },
  {
   "cell_type": "code",
   "execution_count": 119,
   "metadata": {
    "collapsed": true
   },
   "outputs": [],
   "source": [
    "from pyspark.ml import Pipeline\n",
    "from pyspark.ml.classification import RandomForestClassifier\n",
    "from pyspark.ml.classification import DecisionTreeClassifier\n",
    "from pyspark.ml.evaluation import BinaryClassificationEvaluator\n",
    "from pyspark.ml.evaluation import MulticlassClassificationEvaluator"
   ]
  },
  {
   "cell_type": "code",
   "execution_count": 157,
   "metadata": {
    "collapsed": false
   },
   "outputs": [],
   "source": [
    "classifier = RandomForestClassifier(labelCol = 'label', featuresCol = 'features')\n",
    "pipeline = Pipeline(stages=[label_indexer, assembler, classifier])\n",
    "model = pipeline.fit(train)"
   ]
  },
  {
   "cell_type": "code",
   "execution_count": 158,
   "metadata": {
    "collapsed": true
   },
   "outputs": [],
   "source": [
    "#Predicts and calculates area under curve\n",
    "predictions = model.transform(test)\n",
    "evaluator = BinaryClassificationEvaluator()\n",
    "auroc = evaluator.evaluate(predictions, {evaluator.metricName: \"areaUnderROC\"})"
   ]
  },
  {
   "cell_type": "code",
   "execution_count": 159,
   "metadata": {
    "collapsed": false
   },
   "outputs": [
    {
     "data": {
      "text/plain": [
       "0.6911954708117838"
      ]
     },
     "execution_count": 159,
     "metadata": {},
     "output_type": "execute_result"
    }
   ],
   "source": [
    "auroc"
   ]
  },
  {
   "cell_type": "code",
   "execution_count": 160,
   "metadata": {
    "collapsed": true
   },
   "outputs": [],
   "source": [
    "# Select (prediction, true label) and compute test error\n",
    "evaluator = MulticlassClassificationEvaluator(\n",
    "    labelCol=\"label\", predictionCol=\"prediction\", metricName=\"accuracy\")\n",
    "accuracy = evaluator.evaluate(predictions)"
   ]
  },
  {
   "cell_type": "code",
   "execution_count": 161,
   "metadata": {
    "collapsed": false
   },
   "outputs": [
    {
     "name": "stdout",
     "output_type": "stream",
     "text": [
      "Accuracy of random forest model = 73.8236\n",
      "Test Error of random forest model = 26.1764\n"
     ]
    }
   ],
   "source": [
    "print(\"Accuracy of random forest model = %g\" % (accuracy*100))\n",
    "print(\"Test Error of random forest model = %g\" % ((1.0 - accuracy)*100))"
   ]
  },
  {
   "cell_type": "markdown",
   "metadata": {},
   "source": [
    "## Decision Tree"
   ]
  },
  {
   "cell_type": "code",
   "execution_count": 162,
   "metadata": {
    "collapsed": false
   },
   "outputs": [],
   "source": [
    "#Trains a DecisionTree model.\n",
    "dt = DecisionTreeClassifier(labelCol=\"label\", featuresCol=\"features\")\n",
    "\n",
    "# Chain indexers and tree in a Pipeline\n",
    "pipeline_dt = Pipeline(stages=[label_indexer, assembler, dt])"
   ]
  },
  {
   "cell_type": "code",
   "execution_count": 163,
   "metadata": {
    "collapsed": true
   },
   "outputs": [],
   "source": [
    "# Train model.  This also runs the indexers.\n",
    "model_dt = pipeline_dt.fit(train)"
   ]
  },
  {
   "cell_type": "code",
   "execution_count": 164,
   "metadata": {
    "collapsed": true
   },
   "outputs": [],
   "source": [
    "# Make predictions.\n",
    "predictions_dt = model_dt.transform(test)"
   ]
  },
  {
   "cell_type": "code",
   "execution_count": 165,
   "metadata": {
    "collapsed": true
   },
   "outputs": [],
   "source": [
    "# Select (prediction, true label) and compute test error\n",
    "evaluator_dt = MulticlassClassificationEvaluator(\n",
    "    labelCol=\"label\", predictionCol=\"prediction\", metricName=\"accuracy\")\n",
    "accuracy_dt = evaluator_dt.evaluate(predictions_dt)"
   ]
  },
  {
   "cell_type": "code",
   "execution_count": 166,
   "metadata": {
    "collapsed": false
   },
   "outputs": [
    {
     "name": "stdout",
     "output_type": "stream",
     "text": [
      "Accuracy of decision tree model = 73.9868\n",
      "Test Error of decision tree model = 26.0132 \n"
     ]
    }
   ],
   "source": [
    "print(\"Accuracy of decision tree model = %g\" % (accuracy_dt*100))\n",
    "print(\"Test Error of decision tree model = %g \" % ((1.0 - accuracy_dt)*100))"
   ]
  },
  {
   "cell_type": "code",
   "execution_count": null,
   "metadata": {
    "collapsed": true
   },
   "outputs": [],
   "source": []
  }
 ],
 "metadata": {
  "anaconda-cloud": {},
  "kernelspec": {
   "display_name": "Python [conda root]",
   "language": "python",
   "name": "conda-root-py"
  },
  "language_info": {
   "codemirror_mode": {
    "name": "ipython",
    "version": 2
   },
   "file_extension": ".py",
   "mimetype": "text/x-python",
   "name": "python",
   "nbconvert_exporter": "python",
   "pygments_lexer": "ipython2",
   "version": "2.7.12"
  }
 },
 "nbformat": 4,
 "nbformat_minor": 1
}
